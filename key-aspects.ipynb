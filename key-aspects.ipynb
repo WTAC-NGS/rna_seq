{
 "cells": [
  {
   "cell_type": "markdown",
   "metadata": {},
   "source": [
    "# Key aspects of differential expression analysis"
   ]
  },
  {
   "cell_type": "markdown",
   "metadata": {},
   "source": [
    "## Replicates and power\n",
    "\n",
    "In order to accurately ascertain which genes are differentially expressed and by how much it is necessary to use replicated data. As with all biological experiments doing it once is simply not enough. There is no simple way to decide how many replicates to do, it is usually a compromise of statistical power and cost. By determining how much variability there is in the sample preparation and sequencing reactions, we can better assess how highly genes are really expressed and more accurately determine any differences. The key to this is performing biological rather than technical replicates. This means, for instance, growing up three batches of parasites, treating them all identically, extracting RNA from each and sequencing the three samples separately. Technical replicates, whereby the same sample is sequenced three times do not account for the variability that really exists in biological systems or the experimental error between batches of parasites and RNA extractions.\n",
    "\n",
    "_Note: more replicates will help improve power for genes that are already detected at high levels, while deeper sequencing will improve power to detect differential expression for genes which are expressed at low levels._\n",
    "\n",
    "## p-values vs. q-values\n",
    "\n",
    "When asking whether a gene is differentially expressed we use statistical tests to assign a **p-value**. If a gene has a p-value of 0.05, we say that there is only a 5% chance that it is not really differentially expressed. However, if we are asking this question for every gene in the genome (~5500 genes for _Plasmodium_), then we would expect to see p-values less than 0.05 for many genes even though they are not really differentially expressed. Due to this statistical problem, we must correct the p-values so that we are not tricked into accepting a large number of erroneous results.  **Q-values** are p-values which have been corrected for what is known as multiple hypothesis testing. Therefore, it is a q-value of less than 0.05 that we should be looking for when asking whether a gene is differentially expressed.\n",
    "\n",
    "## Alternative software\n",
    "\n",
    "If you have a good quality genome and genome annotation such as for model organisms e.g. human, mouse, _Plasmodium_; map to the transcriptome to determine transcript abundance. This is even more relevant if you have variant transcripts per gene as you need a tool which will do its best to determine which transcript is really expressed.  As well as [Kallisto](https://pachterlab.github.io/kallisto/) (Bray et al. 2016; PMID: [27043002](https://www.ncbi.nlm.nih.gov/pubmed/27043002)), there is [eXpress](https://pachterlab.github.io/eXpress/overview.html) (Roberts & Pachter, 2012; PMID: [23160280](https://www.ncbi.nlm.nih.gov/pubmed/23160280)) which will do this.\n",
    "\n",
    "Alternatively, you can map to the genome and then call abundance of genes, essentially ignoring variant transcripts. This is more appropriate where you are less confident about the genome annotation and/or you don’t have variant transcripts because your organism rarely makes them or they are simply not annotated. [Tophat2](https://ccb.jhu.edu/software/tophat/index.shtml) (Kim et al., 2013; PMID: [23618408](https://www.ncbi.nlm.nih.gov/pubmed/23618408)), [HISAT2](https://ccb.jhu.edu/software/hisat2/index.shtml) (Pertea et al. 2016; PMID: [27560171](https://www.ncbi.nlm.nih.gov/pubmed/27560171)), [STAR](https://github.com/alexdobin/STAR) (Dobinet al., 2013; PMID: [23104886](https://www.ncbi.nlm.nih.gov/pubmed/23104886)) and [GSNAP](http://research-pub.gene.com/gmap/) (Wu & Nacu, 2010; PMID: [20147302](https://www.ncbi.nlm.nih.gov/pubmed/20147302)) are all splice-aware RNA-seq read mappers appropriate for this task.  You then need to use a tool which counts the reads overlapping each gene model.  [HTSeq](https://htseq.readthedocs.io/en/release_0.10.0/) (Anders et al., 2015; PMID: [25260700](https://www.ncbi.nlm.nih.gov/pubmed/25260700)) is a popular tool for this purpose.  [Cufflinks](https://github.com/cole-trapnell-lab/cufflinks) (Trapnell et al. 2012; PMID: [22383036](https://www.ncbi.nlm.nih.gov/pubmed/22383036)) will count reads and determine differentially expressed genes.\n",
    "\n",
    "There are a variety of programs for detecting differentially expressed genes from tables of RNA-seq read counts. [DESeq2](https://bioconductor.org/packages/release/bioc/html/DESeq2.html) (Love et al., 2014; PMID: [25516281](https://www.ncbi.nlm.nih.gov/pubmed/25516281)), [EdgeR](https://bioconductor.org/packages/release/bioc/html/edgeR.html) (Robinson et al., 2010; PMID: [19910308](https://www.ncbi.nlm.nih.gov/pubmed/19910308)) and [BaySeq](http://bioconductor.org/packages/release/bioc/html/baySeq.html) (Hardcastle & Kelly, 2010; PMID: [20698981](https://www.ncbi.nlm.nih.gov/pubmed/20698981)) are good examples.\n",
    "\n",
    "## What do I do with a gene list?\n",
    "\n",
    "Differential expression analysis results are a list of genes which show differences between two conditions.  It can be daunting trying to determine what the results mean.  On one hand, you may find that that there are no real differences in your experiment. Is this due to biological reality or noisy data?  On the other hand, you may find several thousands of genes are differentially expressed.  What can you say about that?\n",
    "\n",
    "Other than looking for genes you expect to be different or unchanged, one of the first things to do is look at **Gene Ontology (GO) term enrichment**.  There are many different algorithms for this, but you could annotate your genes with functional terms from GO using for instance [Blast2GO](Blast2GO) (Conesa et al., 2005; PMID: [16081474](https://www.ncbi.nlm.nih.gov/pubmed/16081474)) and then use [TopGO](https://bioconductor.org/packages/release/bioc/html/topGO.html) (Alexa et al., 2005; PMID: [16606683](https://www.ncbi.nlm.nih.gov/pubmed/16606683)) to determine whether any particular sorts of genes occur more than expected in your differentially expressed genes."
   ]
  },
  {
   "cell_type": "markdown",
   "metadata": {},
   "source": [
    "***"
   ]
  },
  {
   "cell_type": "markdown",
   "metadata": {},
   "source": [
    "## Congratulations, you have reached the end of this tutorial! \n",
    "\n",
    "We hope you've enjoyed our RNA-Seq tutorial. You can find the answers to all of the questions in this tutorial [here](answers.ipynb). To revisit the previous section, click [here](de-interpretation.ipynb). Or, to go back to the beginning click [here](index.ipynb). "
   ]
  }
 ],
 "metadata": {
  "anaconda-cloud": {},
  "kernelspec": {
   "display_name": "Bash",
   "language": "bash",
   "name": "bash"
  },
  "language_info": {
   "codemirror_mode": "shell",
   "file_extension": ".sh",
   "mimetype": "text/x-sh",
   "name": "bash"
  }
 },
 "nbformat": 4,
 "nbformat_minor": 2
}
