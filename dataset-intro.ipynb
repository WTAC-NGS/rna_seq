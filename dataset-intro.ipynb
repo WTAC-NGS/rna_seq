{
 "cells": [
  {
   "cell_type": "markdown",
   "metadata": {},
   "source": [
    "# Introducing the tutorial dataset"
   ]
  },
  {
   "cell_type": "markdown",
   "metadata": {},
   "source": [
    "Working through this tutorial, you will investigate the effect of vector transmission on gene expression of the malaria parasite. The dataset you will be using for this tutorial and _Figure 1_ have been taken from the following publication:"
   ]
  },
  {
   "cell_type": "markdown",
   "metadata": {},
   "source": [
    "> **Vector transmission regulates immune control of _Plasmodium_ virulence**  \n",
    "> Philip J. Spence, William Jarra, Prisca Lévy, Adam J. Reid, Lia Chappell, Thibaut Brugat, Mandy Sanders, Matthew Berriman and Jean Langhorne  \n",
    "> _Nature. 2013 Jun 13; 498(7453): 228–231 doi:[10.1038/nature12231](https://www.nature.com/articles/nature12231)_"
   ]
  },
  {
   "cell_type": "markdown",
   "metadata": {},
   "source": [
    "## Is the transcriptome of a mosquito-transmitted parasite different from one which has not passed through a mosquito?"
   ]
  },
  {
   "cell_type": "markdown",
   "metadata": {},
   "source": [
    "The key reason for asking this question is that parasites which are transmitted by mosquito (**MT**) are less virulent (severe/harmful) than those which are serially blood passaged (**SBP**) in the laboratory. _Figure 1A_ shows the malaria life cycle, the red part highlighting the mosquito stage. _Figure 1B_ shows the difference in virulence, measured by blood parasitemia (presence of parasites in the blood), between mosquito-transmitted and serially blood passaged parasites.  \n",
    "\n",
    "_Figure 1C_ shows that increasing numbers of blood passage post mosquito transmission results in increasing virulence, back to around 20% parasitemia.  Subsequent mosquito transmission of high virulence parasites render them low virulence again. \n",
    "\n",
    "We hypothesise that parasites which have been through the mosquito are somehow better able to control the mosquito immune system than those which have not. This control of the immune system would result in lower parasitemia because this is advantageous for the parasite. Too high a parasitemia is bad for the mouse and therefore bad for the parasite."
   ]
  },
  {
   "cell_type": "markdown",
   "metadata": {},
   "source": [
    "![Figure 1. Serial blood passage increases virulence of malaria parasites](images/background-spence2013.png \"Serial blood passage increases virulence of malaria parasites\")"
   ]
  },
  {
   "cell_type": "markdown",
   "metadata": {},
   "source": [
    "**Figure 1. Serial blood passage increases virulence of malaria parasites.**   \n",
    "_(A) The lifecycle of plasmodium parasites involves mammalian and mosquito stages.  Experiments in the lab often exclude the mosquito stage (red) and instead remove parasites from the blood of a mouse to infect another mouse (serial blood passage). (B) Serially blood passaged parasites (red) are more virulent than mosquito-transmitted parasites (blue) as shown by their higher parasitemia over the course of an infection. (C) As mosquito transmitted parasites are serially passaged an increasing number of times, they return to a higher level of parasitemia._"
   ]
  },
  {
   "cell_type": "markdown",
   "metadata": {},
   "source": [
    "***"
   ]
  },
  {
   "cell_type": "markdown",
   "metadata": {},
   "source": [
    "## Exercise 1"
   ]
  },
  {
   "cell_type": "markdown",
   "metadata": {},
   "source": [
    "In this tutorial, you will be analysing **five RNA samples**, each of which has been sequenced on an Illumina HiSeq sequencing machine. There are **two conditions**: serially blood-passaged parasites (**SBP**) and mosquito transmitted parasites (**MT**). One with **three biological replicates** (SBP), one with **two biological replicates** (MT)."
   ]
  },
  {
   "cell_type": "markdown",
   "metadata": {},
   "source": [
    "| Sample name | Experimental condition             | Replicate number |\n",
    "| :---------: | :--------------------------------: | :--------------: |\n",
    "| MT1         | mosquito transmitted parasites     | 1                |\n",
    "| MT1         | mosquito transmitted parasites     | 2                |\n",
    "| SBP1        | serially blood-passaged parasites  | 1                |\n",
    "| SBP2        | serially blood-passaged parasites  | 2                |\n",
    "| SBP3        | serially blood-passaged parasites  | 3                |\n"
   ]
  },
  {
   "cell_type": "markdown",
   "metadata": {},
   "source": [
    "The tutorial files can be found in the `data` directory. Let's go there now!"
   ]
  },
  {
   "cell_type": "markdown",
   "metadata": {},
   "source": [
    "**Move into the directory containing the tutorial data files.**"
   ]
  },
  {
   "cell_type": "code",
   "execution_count": null,
   "metadata": {
    "collapsed": false
   },
   "outputs": [],
   "source": [
    "cd data"
   ]
  },
  {
   "cell_type": "markdown",
   "metadata": {},
   "source": [
    "**Download and uncompress the tutorial FASTQ files.**"
   ]
  },
  {
   "cell_type": "code",
   "execution_count": null,
   "metadata": {
    "collapsed": true
   },
   "outputs": [],
   "source": [
    "wget ftp://ftp.sanger.ac.uk/pub/project/pathogens/workshops/RNASeq_tutorial_fastqs.tar.gz\n",
    "tar -xf RNASeq_tutorial_fastqs.tar.gz"
   ]
  },
  {
   "cell_type": "markdown",
   "metadata": {},
   "source": [
    "**Take a look at the data files.**"
   ]
  },
  {
   "cell_type": "code",
   "execution_count": null,
   "metadata": {
    "collapsed": false
   },
   "outputs": [],
   "source": [
    "ls"
   ]
  },
  {
   "cell_type": "markdown",
   "metadata": {},
   "source": [
    "**For this tutorial we need to uncompress the FASTQ files.**"
   ]
  },
  {
   "cell_type": "code",
   "execution_count": null,
   "metadata": {
    "collapsed": true
   },
   "outputs": [],
   "source": [
    "gunzip *.fastq.gz"
   ]
  },
  {
   "cell_type": "markdown",
   "metadata": {},
   "source": [
    "***"
   ]
  },
  {
   "cell_type": "markdown",
   "metadata": {},
   "source": [
    "## Questions\n",
    "\n",
    "### Q1: How many FASTQ files are there for each sample?\n",
    "_Hint: look for files with the .fastq extension_\n",
    "\n",
    "\n",
    "### Q2: Why is there more than one FASTQ file per sample?\n",
    "\n",
    "\n",
    "### Q3: How many reads are there for MT1?\n",
    "_Hint: look at the .fastq files, is there anything you can use in the FASTQ header..._"
   ]
  },
  {
   "cell_type": "markdown",
   "metadata": {},
   "source": [
    "***"
   ]
  },
  {
   "cell_type": "markdown",
   "metadata": {},
   "source": [
    "## What's next?\n",
    "\n",
    "For a quick recap of what the tutorial covers and the software you will need, head back to the **[Introduction](index.ipynb)**.\n",
    "\n",
    "Otherwise, let's get started with **[mapping RNA-Seq reads to the genome using HISAT2](genome-mapping.ipynb)**\n",
    "  "
   ]
  }
 ],
 "metadata": {
  "anaconda-cloud": {},
  "kernelspec": {
   "display_name": "Bash",
   "language": "bash",
   "name": "bash"
  },
  "language_info": {
   "codemirror_mode": "shell",
   "file_extension": ".sh",
   "mimetype": "text/x-sh",
   "name": "bash"
  }
 },
 "nbformat": 4,
 "nbformat_minor": 1
}
