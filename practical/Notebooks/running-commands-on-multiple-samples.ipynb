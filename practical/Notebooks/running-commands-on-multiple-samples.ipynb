{
 "cells": [
  {
   "cell_type": "markdown",
   "metadata": {},
   "source": [
    "# Running commands on multiple samples"
   ]
  },
  {
   "cell_type": "markdown",
   "metadata": {},
   "source": [
    "Now, fair warning, you're going to wish we'd told you this earlier on. However, then you wouldn't have had the fun of running and updating each of the previous commands, growling at typos and generally wishing that you'd gone for that cup of coffee before starting this tutorial.\n",
    "\n",
    "Here we go....we can use a **loop** to run the same commands for multiple samples.\n",
    "\n",
    "There's a great introduction to bash scripting and loops as part of our [Unix tutorial](../Unix/bash_scripts/bash_scripts.ipynb). But let's take a look at how we could have generated genome alignments for all of our samples using a single loop.\n",
    "\n",
    "**First let's go to our `data` directory.**"
   ]
  },
  {
   "cell_type": "code",
   "execution_count": null,
   "metadata": {
    "collapsed": false
   },
   "outputs": [],
   "source": [
    "cd data"
   ]
  },
  {
   "cell_type": "markdown",
   "metadata": {},
   "source": [
    "Whenever you write a loop, it's always a good idea to build it up slowly to check that it's doing what you think."
   ]
  },
  {
   "cell_type": "code",
   "execution_count": null,
   "metadata": {
    "collapsed": false
   },
   "outputs": [],
   "source": [
    "for r in *.fastq\n",
    "do\n",
    "  echo $r\n",
    "done  "
   ]
  },
  {
   "cell_type": "markdown",
   "metadata": {},
   "source": [
    "This loop looks for all (*) files which end with \".fastq\". The for loop then executes a sequence of commands for each file name that it finds. In the first iteration its \"MT1_1.fastq\", then \"MT1_2.fastq\" and so on... In each iteration, we assigned each filename that it found to a variable called \"r\". \n",
    "\n",
    "`for r in *.fastq`\n",
    "\n",
    "Then, to check we got what we expected, we printed what the variable \"r\" represented back to the terminal. Because we want to use the variable (\"r\") we created we need to use dollar ($) symbol.\n",
    "\n",
    "`echo $r`\n",
    "\n",
    "Now, if we left things as they are, we would be running the commands twice for each sample. This is because we have two FASTQ files for each sample i.e. \"_1.fastq\" and \"_2.fastq\".  Let's change our loop so that we only get the \"_1.fastq\" files."
   ]
  },
  {
   "cell_type": "code",
   "execution_count": null,
   "metadata": {
    "collapsed": false
   },
   "outputs": [],
   "source": [
    "for r1 in *_1.fastq\n",
    "do\n",
    "  echo $r1\n",
    "done  "
   ]
  },
  {
   "cell_type": "markdown",
   "metadata": {},
   "source": [
    "Great! Now, the only problem here is that we're going to want to use both the \"_1.fastq\" and the \"_2.fastq\" files in our mapping. We can get around this by removing the \"_1.fastq\" from the filename to give us our sample name.\n",
    "\n",
    "`sample=${r1/_1.fastq/}`\n",
    "\n",
    "This will replace the \"_1.fastq\" at the end of the filename we stored as \"r1\" with nothing. "
   ]
  },
  {
   "cell_type": "markdown",
   "metadata": {},
   "source": [
    "We've added a little descriptive message so that when we run our loop we know which iteration it's on and what it's doing. Let's try adding our HISAT2 mapping command.\n",
    "\n",
    "_Note: we assume that the HISAT2 index has already been generated as that's a command you'll only need to run once._"
   ]
  },
  {
   "cell_type": "code",
   "execution_count": null,
   "metadata": {
    "collapsed": false
   },
   "outputs": [],
   "source": [
    "for r1 in *_1.fastq\n",
    "do\n",
    "  sample=${r1/_1.fastq/}\n",
    "  echo \"Processing sample: \"$sample\n",
    "  \n",
    "  echo \"Mapping sample: \"$sample\n",
    "  hisat2 --max-intronlen 10000 -x PccAS_v3_hisat2.idx \\\n",
    "  -1 $sample\"_1.fastq\" -2 $sample\"_2.fastq\" -S $sample\".sam\"\n",
    "done"
   ]
  },
  {
   "cell_type": "markdown",
   "metadata": {},
   "source": [
    "Notice that because we're using a filename which starts with our variable, but ends with a set phrase, we need to write the phrase in double quotes.\n",
    "\n",
    "`$sample\"_1.fastq\"`"
   ]
  },
  {
   "cell_type": "markdown",
   "metadata": {},
   "source": [
    "Now let's add in our `samtools` commands."
   ]
  },
  {
   "cell_type": "code",
   "execution_count": null,
   "metadata": {
    "collapsed": false
   },
   "outputs": [],
   "source": [
    "for r1 in *_1.fastq\n",
    "do\n",
    "  sample=${r1/_1.fastq/}\n",
    "  echo \"Processing sample: \"$sample\n",
    "  \n",
    "  echo \"Mapping sample: \"$sample\n",
    "  hisat2 --max-intronlen 10000 -x PccAS_v3_hisat2.idx \\\n",
    "  -1 $sample\"_1.fastq\" -2 $sample\"_2.fastq\" -S $sample\".sam\"\n",
    "  \n",
    "  echo \"Converting SAM to BAM: \"$sample\n",
    "  samtools view -b -o $sample\".bam\" $sample\".sam\"\n",
    "  \n",
    "  echo \"Sorting BAM: \"$sample\n",
    "  samtools sort -o $sample\"_sorted.bam\" $sample\".bam\"\n",
    "  \n",
    "  echo \"Indexing BAM: \"$sample\n",
    "  samtools index $sample\"_sorted.bam\"\n",
    "done"
   ]
  },
  {
   "cell_type": "markdown",
   "metadata": {},
   "source": [
    "Finally, we don't really want to keep intermediate SAM and unsorted BAM files if we don't have to. They just take up precious space. So, let's make our samtools command a one-liner, passing the stdout from one command to another."
   ]
  },
  {
   "cell_type": "code",
   "execution_count": null,
   "metadata": {
    "collapsed": false
   },
   "outputs": [],
   "source": [
    "for r1 in *_1.fastq\n",
    "do\n",
    "  sample=${r1/_1.fastq/}\n",
    "  echo \"Processing sample: \"$sample\n",
    "  hisat2 --max-intronlen 10000 -x PccAS_v3_hisat2.idx \\\n",
    "  -1 $sample\"_1.fastq\" -2 $sample\"_2.fastq\" \\\n",
    "  | samtools view -b - \\\n",
    "  | samtools sort -o $sample\"_sorted.bam\" - \\\n",
    "  && samtools index $sample\"_sorted.bam\" \n",
    "done"
   ]
  },
  {
   "cell_type": "markdown",
   "metadata": {},
   "source": [
    "You could also have used this approach for transcript quantification with Kallisto, assuming you had already generated the Kallisto index."
   ]
  },
  {
   "cell_type": "code",
   "execution_count": null,
   "metadata": {
    "collapsed": true
   },
   "outputs": [],
   "source": [
    "for r1 in *_1.fastq\n",
    "do\n",
    "  echo $r1\n",
    "  sample=${r1/_1.fastq/}\n",
    "  echo \"Quantifying transcripts for sample: \"$sample\n",
    "  kallisto quant -i PccAS_v3_kallisto -o $sample -b 100 \\\n",
    "  $sample'_1.fastq' $sample'_2.fastq'\n",
    "done"
   ]
  }
 ],
 "metadata": {
  "anaconda-cloud": {},
  "kernelspec": {
   "display_name": "Bash",
   "language": "bash",
   "name": "bash"
  },
  "language_info": {
   "codemirror_mode": "shell",
   "file_extension": ".sh",
   "mimetype": "text/x-sh",
   "name": "bash"
  }
 },
 "nbformat": 4,
 "nbformat_minor": 2
}
