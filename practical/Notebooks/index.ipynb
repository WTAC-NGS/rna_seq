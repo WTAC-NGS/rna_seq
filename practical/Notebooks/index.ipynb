{
 "cells": [
  {
   "cell_type": "markdown",
   "metadata": {},
   "source": [
    "# RNA-Seq expression analysis\n"
   ]
  },
  {
   "cell_type": "markdown",
   "metadata": {},
   "source": [
    "## Introduction\n",
    "\n",
    "RNA sequencing (**RNA-Seq**) is a high-throughput method used to profile the **transcriptome**, quantify gene expression and discover novel RNA molecules.  This tutorial uses RNA sequencing of **malaria parasites** to walk you through transcriptome visualisation, performing simple quality control checks and will show you how to profile transcriptomic differences by identifying differentially expressed genes.    "
   ]
  },
  {
   "cell_type": "markdown",
   "metadata": {},
   "source": [
    "For an introduction to RNA-Seq principles and best practices see:\n",
    "\n",
    "> **A survey of best practices for RNA-Seq data analysis**  \n",
    "> Ana Conesa, Pedro Madrigal, Sonia Tarazona, David Gomez-Cabrero, Alejandra Cervera, Andrew McPherson, Michał Wojciech Szcześniak, Daniel J. Gaffney, Laura L. Elo, Xuegong Zhang and Ali Mortazavi  \n",
    "> _Genome Biol. 2016 Jan 26;17:13 doi:[10.1186/s13059-016-0881-8](https://genomebiology.biomedcentral.com/articles/10.1186/s13059-016-0881-8)_"
   ]
  },
  {
   "cell_type": "markdown",
   "metadata": {},
   "source": [
    "## Learning outcomes\n",
    "\n",
    "By the end of this tutorial you can expect to be able to:  \n",
    "\n",
    " * Align RNA-Seq reads to a reference genome and a transcriptome \n",
    " * Visualise transcription data using standard tools \n",
    " * Perform QC of NGS transcriptomic data \n",
    " * Quantify the expression values of your transcripts using standard tools "
   ]
  },
  {
   "cell_type": "markdown",
   "metadata": {},
   "source": [
    "## Tutorial sections\n",
    "This tutorial comprises the following sections:    \n",
    "\n",
    "  1. [Introducing the tutorial dataset](dataset-intro.ipynb) \n",
    "  2. [Mapping RNA-Seq reads to the genome with HISAT2](genome-mapping.ipynb) \n",
    "  3. [Visualising transcriptomes with IGV](transcriptome-visualisation.ipynb) \n",
    "  4. [Transcript quantification with Kallisto](transcript-quantification.ipynb) \n",
    "  5. [Identifying differentially expressed genes with Sleuth](sleuth-de.ipynb) \n",
    "  6. [Interpreting the results](de-interpretation.ipynb) \n",
    "  7. [Key aspects of differential expression analysis](key-aspects.ipynb)"
   ]
  },
  {
   "cell_type": "markdown",
   "metadata": {},
   "source": [
    "## Authors\n",
    "This tutorial was written by [Victoria Offord](https://github.com/vaofford) based on materials from [Adam Reid](https://www.sanger.ac.uk/people/directory/reid-adam-james)."
   ]
  },
  {
   "cell_type": "markdown",
   "metadata": {},
   "source": [
    "## Prerequisites\n",
    "\n",
    "This tutorial assumes that you have the following software or packages and their dependencies installed on your computer. The software or packages used in this tutorial may be updated from time to time so, we have also given you the version which was used when writing the tutorial. "
   ]
  },
  {
   "cell_type": "markdown",
   "metadata": {},
   "source": [
    "| Package               | Link for download/installation instructions                          | Version tested |\n",
    "| :-------------------: | :------------------------------------------------------------------: |:-------------: |\n",
    "| HISAT2                | https://ccb.jhu.edu/software/hisat2/index.shtml                      | 2.1.0          |\n",
    "| samtools              | https://github.com/samtools/samtools                                 | 1.10           |\n",
    "| IGV                   | https://software.broadinstitute.org/software/igv/                    | 2.7.2          |\n",
    "| kallisto              | https://pachterlab.github.io/kallisto/download                       | 0.46.2         |\n",
    "| R                     | https://www.r-project.org/                                           | 4.0.2          |\n",
    "| sleuth                | https://pachterlab.github.io/sleuth/download                         | 0.30.0         |\n",
    "| bedtools              | http://bedtools.readthedocs.io/en/latest/content/installation.html   | 2.29.2         |"
   ]
  },
  {
   "cell_type": "markdown",
   "metadata": {},
   "source": [
    "## Where can I find the tutorial data?\n",
    "\n",
    "You can find the data for this tutorial by typing the following command in a new terminal window."
   ]
  },
  {
   "cell_type": "code",
   "execution_count": null,
   "metadata": {
    "collapsed": true
   },
   "outputs": [],
   "source": [
    "cd /home/manager/course_data/rna_seq"
   ]
  },
  {
   "cell_type": "markdown",
   "metadata": {},
   "source": [
    "Now, let's head to the first section of this tutorial which will be **[introducing the tutorial dataset](dataset-intro.ipynb)**."
   ]
  }
 ],
 "metadata": {
  "anaconda-cloud": {},
  "kernelspec": {
   "display_name": "Bash",
   "language": "bash",
   "name": "bash"
  },
  "language_info": {
   "codemirror_mode": "shell",
   "file_extension": ".sh",
   "mimetype": "text/x-sh",
   "name": "bash"
  }
 },
 "nbformat": 4,
 "nbformat_minor": 1
}
