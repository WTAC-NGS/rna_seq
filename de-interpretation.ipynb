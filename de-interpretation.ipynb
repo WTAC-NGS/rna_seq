{
 "cells": [
  {
   "cell_type": "markdown",
   "metadata": {},
   "source": [
    "# Interpreting the results"
   ]
  },
  {
   "cell_type": "markdown",
   "metadata": {},
   "source": [
    "## Introduction\n",
    "\n",
    "\n",
    "The main objective of this part of the tutorial is to use simple Unix commands to get a list of significantly differentially expressed genes. Using this gene list and the quantitative information from our analysis we can then start to make biological inferences about our dataset.\n",
    "\n",
    "Using the R script (`sleuth.R`), we printed out a file of results describing the differentially expressed genes in our dataset. This file is called **`kallisto.results`**. \n",
    "\n",
    "The file contains several columns, of which the most important are:\n",
    "\n",
    "  * **Column 1**: target_id (gene id)  \n",
    "  * **Column 2**: description (some more useful description of the gene than its id)  \n",
    "  * **Column 3**: pval (p value)    \n",
    "  * **Column 4**: qval (p value corrected for multiple hypothesis testing)  \n",
    "  * **Column 5**: b (fold change)  \n",
    "\n",
    "With a little Linux magic we can get the list of differentially expressed genes with only the columns of interest as above."
   ]
  },
  {
   "cell_type": "markdown",
   "metadata": {},
   "source": [
    "***"
   ]
  },
  {
   "cell_type": "markdown",
   "metadata": {},
   "source": [
    "## Exercise 6"
   ]
  },
  {
   "cell_type": "markdown",
   "metadata": {},
   "source": [
    "**Make sure you are in the `data` directory with the tutorial files.**"
   ]
  },
  {
   "cell_type": "code",
   "execution_count": null,
   "metadata": {
    "collapsed": false
   },
   "outputs": [],
   "source": [
    "cd data"
   ]
  },
  {
   "cell_type": "markdown",
   "metadata": {},
   "source": [
    "To get the genes which are most highly expressed in our SBP samples, we must first filter our results. There are two columns we want to filter our data on: **b** (column 5)  and **qval** (column 4). These columns represent whether the gene is differentially expressed and whether that change is significant.\n",
    "\n",
    "The following command will get those genes which have an adjusted p value (qval) less than 0.01 and a positive fold change. These genes are more highly expressed in the SBP samples."
   ]
  },
  {
   "cell_type": "code",
   "execution_count": null,
   "metadata": {
    "collapsed": false
   },
   "outputs": [],
   "source": [
    "awk -F \"\\t\" '$4 < 0.01 && $5 > 0' kallisto.results | cut -f1,2,3,4,5 | head "
   ]
  },
  {
   "cell_type": "markdown",
   "metadata": {},
   "source": [
    "We used `awk` to filter the gene list and print only the lines which met our search criteria (qval > 0.01, b > 0). The option `-F` tells awk what delimiter is used to separate the columns. In this case, it was a tab or its regular expression \"\\t\".  We then use cut to only print out columns 1-5. You can also do that within the `awk` command. Finally, we use `head` to get the first 10 lines of the output.\n",
    "\n",
    "Alternatively, we can look for the genes which are more highly expressed in the MT samples."
   ]
  },
  {
   "cell_type": "code",
   "execution_count": null,
   "metadata": {
    "collapsed": false
   },
   "outputs": [],
   "source": [
    "awk -F \"\\t\" '$4 < 0.01 && $5 < 0' kallisto.results | cut -f1,2,3,4,5 | head"
   ]
  },
  {
   "cell_type": "markdown",
   "metadata": {},
   "source": [
    "If you want to read more about this work related to this data it is published:\n",
    "\n",
    "> **Vector transmission regulates immune control of _Plasmodium_ virulence**  \n",
    "> Philip J. Spence, William Jarra, Prisca Lévy, Adam J. Reid, Lia Chappell, Thibaut Brugat, Mandy Sanders, Matthew Berriman and Jean Langhorne  \n",
    "> _Nature. 2013 Jun 13; 498(7453): 228–231 doi:[10.1038/nature12231](https://www.nature.com/articles/nature12231)_"
   ]
  },
  {
   "cell_type": "markdown",
   "metadata": {},
   "source": [
    "***"
   ]
  },
  {
   "cell_type": "markdown",
   "metadata": {},
   "source": [
    "## Questions"
   ]
  },
  {
   "cell_type": "markdown",
   "metadata": {},
   "source": [
    "### Q1: How many genes are more highly expressed in the SBP samples?\n",
    "_Hint: try replacing `head` in the earlier command with another unix command to count the number of lines_\n",
    "\n",
    "### Q2: How many genes are more highly expressed in the MT samples?\n",
    "_Hint: try replacing `head` in the earlier command with another unix command to count the number of lines_\n",
    "\n",
    "### Q3: Do you notice any particular genes that come up in the analysis?\n",
    "_Hint: you want to count the number of times each description occurs using `awk`, `sort` and `uniq`_"
   ]
  },
  {
   "cell_type": "markdown",
   "metadata": {},
   "source": [
    "***"
   ]
  },
  {
   "cell_type": "markdown",
   "metadata": {
    "collapsed": true
   },
   "source": [
    "## What's next?\n",
    "\n",
    "You can head back to **[identifying differentially expressed genes with Sleuth](sleuth-de.ipynb)** or continue on to  **[key aspects of differential expression analysis](key-aspects.ipynb)**."
   ]
  }
 ],
 "metadata": {
  "anaconda-cloud": {},
  "kernelspec": {
   "display_name": "Bash",
   "language": "bash",
   "name": "bash"
  },
  "language_info": {
   "codemirror_mode": "shell",
   "file_extension": ".sh",
   "mimetype": "text/x-sh",
   "name": "bash"
  }
 },
 "nbformat": 4,
 "nbformat_minor": 2
}
