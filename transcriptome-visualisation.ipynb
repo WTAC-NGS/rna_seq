{
 "cells": [
  {
   "cell_type": "markdown",
   "metadata": {},
   "source": [
    "# Visualising transcriptomes with IGV"
   ]
  },
  {
   "cell_type": "markdown",
   "metadata": {},
   "source": [
    "## Introduction\n",
    "\n",
    "[Integrative Genome Viewer](https://software.broadinstitute.org/software/igv/) (**IGV**) allows us to visualise genomic datasets. We have a quick start guide [here](../IGV/index.ipynb) which contains the information you need to complete [Exercise 3](#Exercise-3). The full IGV user guide can be found [here](http://software.broadinstitute.org/software/igv/UserGuide) and contains information on all of the IGV features and functions.\n",
    "\n",
    "The objectives of this part of the tutorial are:\n",
    "\n",
    "  * _load a reference genome into IGV and navigate the genome_\n",
    "  * _load an annotation file into IGV and explore gene structure_\n",
    "  * _load read alignments into IGV and inspect read alignments_"
   ]
  },
  {
   "cell_type": "markdown",
   "metadata": {},
   "source": [
    "***"
   ]
  },
  {
   "cell_type": "markdown",
   "metadata": {},
   "source": [
    "## Exercise 3\n",
    "First, we will use `samtools` to create an index for the _P. chabaudi_ reference genome, which IGV will use to traverse the genome. This index file will have the extension **.fai** and should always be in the same directory as the reference genome.\n",
    "\n",
    "**Make sure you are in the `data` directory with the tutorial files.**"
   ]
  },
  {
   "cell_type": "code",
   "execution_count": null,
   "metadata": {
    "collapsed": true
   },
   "outputs": [],
   "source": [
    "cd data"
   ]
  },
  {
   "cell_type": "markdown",
   "metadata": {},
   "source": [
    "**Index the genome fasta file (required by IGV).**"
   ]
  },
  {
   "cell_type": "code",
   "execution_count": null,
   "metadata": {
    "collapsed": true
   },
   "outputs": [],
   "source": [
    "samtools faidx PccAS_v3_genome.fa"
   ]
  },
  {
   "cell_type": "markdown",
   "metadata": {},
   "source": [
    "**Start IGV.**"
   ]
  },
  {
   "cell_type": "code",
   "execution_count": null,
   "metadata": {
    "collapsed": true
   },
   "outputs": [],
   "source": [
    "igv.sh"
   ]
  },
  {
   "cell_type": "markdown",
   "metadata": {},
   "source": [
    "This will open the IGV main window. Now, we need to tell IGV which genome we want to use. IGV has many pre-loaded genomes available, but _P. chabaudi_ is not one of them. This means we will need to load our genome from a file.\n",
    "\n",
    "**Load your reference genome into IGV. Go to \"_Genomes -> Load Genome from File…_\".  Select \"PccAS&#95;v3&#95;genome.fa\" and click \"_Open_\". For more information, see [Loading a reference genome](../IGV/index.ipynb#Loading-a-reference-genome) in our quick start guide.**\n",
    "\n",
    "We not only want to see where our reads have mapped, but what genes they have mapped to. For this, we have an annotation file in [GFF3 format](https://www.ensembl.org/info/website/upload/gff3.html). This contains a list of features, their co-ordinates and orientations which correspond to our reference genome.\n",
    "\n",
    "    ##gff-version   3\n",
    "    ##sequence-region   PccAS_01_v3 1745 580742\n",
    "    ##sequence-region   PccAS_02_v3 825 578413\n",
    "    ...\n",
    "    PccAS_01_v3     DEFAULT gene    1745    3349    .       +       .       ID=PCHAS_0100100\n",
    "    PccAS_01_v3     DEFAULT mRNA    1745    3349    .       +       .       ID=PCHAS_0100100.1;Parent=PCHAS_0100100\n",
    "    PccAS_01_v3     DEFAULT CDS     1745    1845    .       +       0       ID=PCHAS_0100100.1:exon:1;...\n",
    "    PccAS_01_v3     DEFAULT CDS     2047    2317    .       +       1       ID=PCHAS_0100100.1:exon:2;...\n",
    "    ...\n",
    "\n",
    "**Load your annotation file into IGV. Go to \"\"File -> Load from File…\".  Select \"PccAS&#95;v3.gff3\" and click \"_Open_\". For more information, see [Loading gene annotations](../IGV/index.ipynb#Loading-gene-annotations) in our quick start guide.**\n",
    "\n",
    "This will load a new track called \"PccAS_v3.gff3\". The track is currently shown as a density plot. You will need to zoom in to see individual genes.\n",
    "\n",
    "**Search for the gene PCHAS&#95;0505200 by typing \"PCHAS_0505200\" in the search box to zoom in and centre the view on PCHAS_0505200.**\n",
    "\n",
    "![IGV - PCHAS_0505200](images/igv-gene.png \"IGV - PCHAS_0505200\")\n",
    "\n",
    "**To get a clearer view of the gene structure, right click on the annotation track and click \"Expanded\".**\n",
    "\n",
    "![IGV - PCHAS_0505200 expanded](images/igv-gene-structure.png \"IGV - PCHAS_0505200 expanded\")  \n",
    "\n",
    "In the annotation track, genes are presented as blue boxes and lines. These boxes represent exons, while the lines represent intronic regions. Arrows indicate the direction (or strand) of transcription for each of the genes. Now we have our genome and its annotated features, we just need the read alignments for our five samples.\n",
    "\n",
    "**Load your alignment file for the MT1 sample into IGV. Go to \"\"File -> Load from File…\".  Select \"_MT1&#95;sorted.bam_\" and click \"_Open_\". For more information, see [Loading alignment files](../IGV/index.ipynb#Loading-alignment-files) in our quick start guide.**\n",
    "\n",
    "_Note: BAM files and their corresponding index files must be in the same directory for IGV to load them properly._\n",
    "\n",
    "![IGV - MT1 read alignment](images/igv-mt1.png \"IGV - MT1 read alignment\")\n",
    "\n",
    "This will load a new track called \"MT1_sorted.bam\" which contains the read alignments for the MT1 sample. We can change how we visualise our data by altering the view options.  By default, IGV will display reads individually so they are compactly arranged. If you were to hover over a read in the default view, you will only get the details for that read.  However, if we change our view so that the reads are visualised as pairs, the read pairs will be joined together by line and when we hover over either of the reads, we will get information about both of the reads in that pair.\n",
    "\n",
    "**To view our reads as pairs, right click on the MT1&#95;sorted.bam alignment track and click \"View as pairs\".**\n",
    "\n",
    "![IGV - paired view](images/igv-mt1-paired.png \"IGV - paired view\")\n",
    "\n",
    "**To condense the alignment, right click on the MT1&#95;sorted.bam alignment track and click \"Squished\".**\n",
    "\n",
    "![IGV - squished view](images/igv-mt1-squished.png \"IGV - squished view\")\n",
    "\n",
    "For more information on sorting, grouping and visualising read alignments, see the [IGV user guide](http://software.broadinstitute.org/software/igv/UserGuide).\n",
    "\n",
    "**Load the remaining sorted BAM files for the MT2 sample and the three SBP samples.**\n",
    "\n",
    "**Using the search box in the toolbar, go to PCHAS_1409500. For more information, see [Jump to gene or locus](../IGV/index.ipynb#Jump-to-gene-or-locus) in our quick start guide.**\n",
    "\n",
    "![IGV - search PCHAS_1409500](images/igv-search-pchas1409500.png \"IGV - search PCHAS_1409500\")\n",
    "\n",
    "The first thing to look at is the coverage range for this viewing window on the left-hand side. The three SBP samples have 2-3 times more reads mapping to this gene than the two MT samples. While at first glance it may seem like this gene may be differentially expressed between the two conditions, remember that some samples may have been sequenced to a greater depth than others. So, if a sample has been sequenced to a greater depth we would expect more reads to map in general.\n",
    "\n",
    "![IGV - coverage PCHAS_1409500](images/igv-coverage-pchas1409500.png \"IGV - coverage PCHAS_1409500\")\n",
    "\n",
    "From the gene annotation at the bottom we can also see that there are three annotated exon/CDS features for this gene.  However, the coverage plot suggests there may be a fourth unannotated exon which, given the direction of the gene, could suggest a 5' untranslated region (UTR). Note the clean drop off of the coveraged at around position 377,070.\n",
    "\n",
    "We can look a bit closer at this using a Sashimi plot which will summarise the number of reads spanning each exon junction.\n",
    "\n",
    "**Right click on any alignment track click on \"Sashimi Plot\". Click \"OK\".**\n",
    "\n",
    "This will load the Sashimi plot in a new window. Again, information is shown in tracks. Each sample's coverage plot is shown in a different colour with the genome ruler and gene structure found at the bottom of the window. Curves represent exon junctions with the number of reads spanning each junction shown on the curve. \n",
    "\n",
    "![IGV - Sashimi plot](images/igv-sashimi.png \"Sashimi plot\")\n",
    "\n",
    "Notice that there are some curves/reads which span across and beyond the gene. Most of the time we want to ignore these and filter them out. To clean up the Sashimi plot you can set the minimum number of reads spanning a junction required to display a curve.\n",
    "\n",
    "**Right click on any of the Sashimi coverage plots. Click \"Set Junction Coverage Min\". Set it to 20 and click \"OK\". Repeat for the remaining samples.**\n",
    "\n",
    "![IGV - filtered Sashimi plot](images/igv-sashimi-clean.png \"filtered Sashimi plot\")\n",
    "\n",
    "Now you should be left with a much cleaner plot.  "
   ]
  },
  {
   "cell_type": "markdown",
   "metadata": {},
   "source": [
    "***"
   ]
  },
  {
   "cell_type": "markdown",
   "metadata": {},
   "source": [
    "## Questions\n",
    "\n",
    "### Q1: How many CDS features are there in \"PCHAS_1402500\"?\n",
    "\n",
    "_Hint: Look at [Jump to gene or locus](IGV.ipynb#Jump-to-gene-or-locus) in our quick start guide._\n",
    "\n",
    "\n",
    "### Q2: Does the RNA-seq mapping agree with the gene model in blue?\n",
    "\n",
    "_Hint: Look at the coverage track and split read alignments._\n",
    "\n",
    "### Q3: How many reads span the junction between the first and second exons in PCHAS_1402500 in each sample?\n",
    "\n",
    "_Hint: Look at the Sashimi plot._\n",
    "\n",
    "### Q4: Do you think this gene is differentially expressed and is looking at the coverage plots alone a reliable way to assess differential expression?  \n",
    "_Hint: Look at the coverage similarities/differences between the MT and SBP samples._"
   ]
  },
  {
   "cell_type": "markdown",
   "metadata": {},
   "source": [
    "***"
   ]
  },
  {
   "cell_type": "markdown",
   "metadata": {},
   "source": [
    "## What's next?\n",
    "\n",
    "You can head back to **[mapping RNA-Seq reads to the genome using HISAT2](genome-mapping.ipynb)** or continue on to  **[transcript quantification with Kallisto](transcript-quantification.ipynb)**."
   ]
  }
 ],
 "metadata": {
  "anaconda-cloud": {},
  "kernelspec": {
   "display_name": "Bash",
   "language": "bash",
   "name": "bash"
  },
  "language_info": {
   "codemirror_mode": "shell",
   "file_extension": ".sh",
   "mimetype": "text/x-sh",
   "name": "bash"
  }
 },
 "nbformat": 4,
 "nbformat_minor": 2
}
